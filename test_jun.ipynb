{
 "cells": [
  {
   "cell_type": "code",
   "execution_count": 17,
   "metadata": {},
   "outputs": [],
   "source": [
    "import pandas as pd"
   ]
  },
  {
   "cell_type": "code",
   "execution_count": 18,
   "metadata": {},
   "outputs": [
    {
     "name": "stdout",
     "output_type": "stream",
     "text": [
      "-- Описание задания\n",
      "\n",
      "Мы предлагаем Вам попробовать свои силы в решении небольшой задачки. Как известно, блокчейн биткоина хранит все когда-либо используемые адреса и транзакции между ними. Несмотря на кажущуюся анонимность данной криптовалюты, есть широкоизвестные методы, которые позволяют связать множество адресов, предполагая что они принадлежат одному и тому же владельцу (это может быть человек или компания). Так как все транзакции между адресами прозрачны, мы можем видеть сколько денег ушло от одного владельца к другому (это называется сash flow). Мы предоставляем такую услугу нашим клиентам и предлагаем Вам посчитать сash flow между двумя кластерами адресов.\n",
      "\n",
      "-- Необходимые предметные знания\n",
      "\n",
      "Транзакция биткоина представляет собой набор входных и выходных адресов, а также указание сколько каждый адрес вносит биткоинов в данную транзакцию (для входных) или забирает из транзакции (для выходных адресов). Стоит заметить, что ничего не известно о том, сколько биткоинов переправляет конкретный входной адрес на любой другой из выходных. Также часть средств из суммы входов уходит в качестве сбора (fee) для майнеров при включении транзакции в новый блок. Мы можем найти fee (fee >= 0) как разницу между суммой входов и суммой выходов транзакции.\n",
      "\n",
      "-- Описание структуры файлов\n",
      "\n",
      "address_clust.csv включает в себя набор адресов из 1 и 2 кластера с указанием данного кластера.\n",
      "address_id - адрес\n",
      "cluster_id - кластер\n",
      "\n",
      "address_stats.csv включает в себя описание всех транзакций с участием в них адресов из файла address_clust.csv.\n",
      "id - просто id записи\n",
      "address_id - адрес\n",
      "transaction_id - транзакция\n",
      "received - сумма в сатоши (1 биткоин = 10^8 сатоши) полученная данным адресом в данной транзакции\n",
      "sent - сумма в сатоши отправленная данным адресом в данной транзакции\n",
      "\n",
      "Помимо имеющихся в address_clust.csv адресов, файл address_stats.csv содержит еще дополнительные адреса, являющиеся внешними по отношению к кластеру 1 и 2, можете сопоставить им всем кластер 0.\n",
      "\n",
      "-- Задача\n",
      "\n",
      "Сколько биткоинов отправил кластер 1 в кластер 2 и сколько кластер 2 отправил в кластер 1?\n",
      "Доп. вопросы:\n",
      "Сколько биткоинов отправил кластер 1 в кластер 0 и сколько кластер 0 отправил в кластер 1?\n",
      "Сколько биткоинов отправил кластер 2 в кластер 0 и сколько кластер 0 отправил в кластер 2?\n",
      "Сколько биткоинов потратил кластер 1 и кластер 2 на fee?\n",
      "\n"
     ]
    }
   ],
   "source": [
    "import io\n",
    "with io.open('./Readme.txt', 'r', encoding='utf-8') as f:\n",
    "    print(f.read())"
   ]
  },
  {
   "cell_type": "code",
   "execution_count": 19,
   "metadata": {},
   "outputs": [
    {
     "data": {
      "text/html": [
       "<div>\n",
       "<style scoped>\n",
       "    .dataframe tbody tr th:only-of-type {\n",
       "        vertical-align: middle;\n",
       "    }\n",
       "\n",
       "    .dataframe tbody tr th {\n",
       "        vertical-align: top;\n",
       "    }\n",
       "\n",
       "    .dataframe thead th {\n",
       "        text-align: right;\n",
       "    }\n",
       "</style>\n",
       "<table border=\"1\" class=\"dataframe\">\n",
       "  <thead>\n",
       "    <tr style=\"text-align: right;\">\n",
       "      <th></th>\n",
       "      <th>address_id</th>\n",
       "      <th>cluster_id</th>\n",
       "    </tr>\n",
       "  </thead>\n",
       "  <tbody>\n",
       "    <tr>\n",
       "      <th>0</th>\n",
       "      <td>71413451</td>\n",
       "      <td>1</td>\n",
       "    </tr>\n",
       "    <tr>\n",
       "      <th>1</th>\n",
       "      <td>71411914</td>\n",
       "      <td>1</td>\n",
       "    </tr>\n",
       "    <tr>\n",
       "      <th>2</th>\n",
       "      <td>71410369</td>\n",
       "      <td>1</td>\n",
       "    </tr>\n",
       "    <tr>\n",
       "      <th>3</th>\n",
       "      <td>71410100</td>\n",
       "      <td>1</td>\n",
       "    </tr>\n",
       "    <tr>\n",
       "      <th>4</th>\n",
       "      <td>71410040</td>\n",
       "      <td>1</td>\n",
       "    </tr>\n",
       "  </tbody>\n",
       "</table>\n",
       "</div>"
      ],
      "text/plain": [
       "   address_id  cluster_id\n",
       "0    71413451           1\n",
       "1    71411914           1\n",
       "2    71410369           1\n",
       "3    71410100           1\n",
       "4    71410040           1"
      ]
     },
     "execution_count": 19,
     "metadata": {},
     "output_type": "execute_result"
    }
   ],
   "source": [
    "df_clust = pd.read_csv('./address_clust.csv')\n",
    "df_clust.head()"
   ]
  },
  {
   "cell_type": "code",
   "execution_count": 20,
   "metadata": {},
   "outputs": [
    {
     "data": {
      "text/html": [
       "<div>\n",
       "<style scoped>\n",
       "    .dataframe tbody tr th:only-of-type {\n",
       "        vertical-align: middle;\n",
       "    }\n",
       "\n",
       "    .dataframe tbody tr th {\n",
       "        vertical-align: top;\n",
       "    }\n",
       "\n",
       "    .dataframe thead th {\n",
       "        text-align: right;\n",
       "    }\n",
       "</style>\n",
       "<table border=\"1\" class=\"dataframe\">\n",
       "  <thead>\n",
       "    <tr style=\"text-align: right;\">\n",
       "      <th></th>\n",
       "      <th>id</th>\n",
       "      <th>address_id</th>\n",
       "      <th>transaction_id</th>\n",
       "      <th>received</th>\n",
       "      <th>sent</th>\n",
       "    </tr>\n",
       "  </thead>\n",
       "  <tbody>\n",
       "    <tr>\n",
       "      <th>0</th>\n",
       "      <td>87134765</td>\n",
       "      <td>46402336</td>\n",
       "      <td>19162323</td>\n",
       "      <td>0.0</td>\n",
       "      <td>1800000.0</td>\n",
       "    </tr>\n",
       "    <tr>\n",
       "      <th>1</th>\n",
       "      <td>87134766</td>\n",
       "      <td>45919235</td>\n",
       "      <td>19162323</td>\n",
       "      <td>0.0</td>\n",
       "      <td>1071052.0</td>\n",
       "    </tr>\n",
       "    <tr>\n",
       "      <th>2</th>\n",
       "      <td>87134767</td>\n",
       "      <td>46529090</td>\n",
       "      <td>19162323</td>\n",
       "      <td>1000000.0</td>\n",
       "      <td>0.0</td>\n",
       "    </tr>\n",
       "    <tr>\n",
       "      <th>3</th>\n",
       "      <td>87134768</td>\n",
       "      <td>46529091</td>\n",
       "      <td>19162323</td>\n",
       "      <td>1821052.0</td>\n",
       "      <td>0.0</td>\n",
       "    </tr>\n",
       "    <tr>\n",
       "      <th>4</th>\n",
       "      <td>87154706</td>\n",
       "      <td>46529090</td>\n",
       "      <td>19166856</td>\n",
       "      <td>0.0</td>\n",
       "      <td>1000000.0</td>\n",
       "    </tr>\n",
       "  </tbody>\n",
       "</table>\n",
       "</div>"
      ],
      "text/plain": [
       "         id  address_id  transaction_id   received       sent\n",
       "0  87134765    46402336        19162323        0.0  1800000.0\n",
       "1  87134766    45919235        19162323        0.0  1071052.0\n",
       "2  87134767    46529090        19162323  1000000.0        0.0\n",
       "3  87134768    46529091        19162323  1821052.0        0.0\n",
       "4  87154706    46529090        19166856        0.0  1000000.0"
      ]
     },
     "execution_count": 20,
     "metadata": {},
     "output_type": "execute_result"
    }
   ],
   "source": [
    "df_stats = pd.read_csv('./address_stats.csv')\n",
    "df_stats.head()"
   ]
  },
  {
   "cell_type": "markdown",
   "metadata": {},
   "source": [
    "Объединение таблиц по значению address_id, задание адресам, не входящих в address_clust значение кластера \"0\""
   ]
  },
  {
   "cell_type": "code",
   "execution_count": 21,
   "metadata": {},
   "outputs": [],
   "source": [
    "df = pd.merge(df_stats, df_clust, how='left', on='address_id')\n",
    "df['cluster_id'].fillna(value=0, inplace=True);"
   ]
  },
  {
   "cell_type": "code",
   "execution_count": 22,
   "metadata": {
    "scrolled": true
   },
   "outputs": [
    {
     "data": {
      "text/html": [
       "<div>\n",
       "<style scoped>\n",
       "    .dataframe tbody tr th:only-of-type {\n",
       "        vertical-align: middle;\n",
       "    }\n",
       "\n",
       "    .dataframe tbody tr th {\n",
       "        vertical-align: top;\n",
       "    }\n",
       "\n",
       "    .dataframe thead th {\n",
       "        text-align: right;\n",
       "    }\n",
       "</style>\n",
       "<table border=\"1\" class=\"dataframe\">\n",
       "  <thead>\n",
       "    <tr style=\"text-align: right;\">\n",
       "      <th></th>\n",
       "      <th>id</th>\n",
       "      <th>address_id</th>\n",
       "      <th>transaction_id</th>\n",
       "      <th>received</th>\n",
       "      <th>sent</th>\n",
       "      <th>cluster_id</th>\n",
       "    </tr>\n",
       "  </thead>\n",
       "  <tbody>\n",
       "    <tr>\n",
       "      <th>0</th>\n",
       "      <td>87134765</td>\n",
       "      <td>46402336</td>\n",
       "      <td>19162323</td>\n",
       "      <td>0.0</td>\n",
       "      <td>1800000.0</td>\n",
       "      <td>0.0</td>\n",
       "    </tr>\n",
       "    <tr>\n",
       "      <th>1</th>\n",
       "      <td>87134766</td>\n",
       "      <td>45919235</td>\n",
       "      <td>19162323</td>\n",
       "      <td>0.0</td>\n",
       "      <td>1071052.0</td>\n",
       "      <td>0.0</td>\n",
       "    </tr>\n",
       "    <tr>\n",
       "      <th>2</th>\n",
       "      <td>87134767</td>\n",
       "      <td>46529090</td>\n",
       "      <td>19162323</td>\n",
       "      <td>1000000.0</td>\n",
       "      <td>0.0</td>\n",
       "      <td>1.0</td>\n",
       "    </tr>\n",
       "    <tr>\n",
       "      <th>3</th>\n",
       "      <td>87134768</td>\n",
       "      <td>46529091</td>\n",
       "      <td>19162323</td>\n",
       "      <td>1821052.0</td>\n",
       "      <td>0.0</td>\n",
       "      <td>0.0</td>\n",
       "    </tr>\n",
       "    <tr>\n",
       "      <th>4</th>\n",
       "      <td>87154706</td>\n",
       "      <td>46529090</td>\n",
       "      <td>19166856</td>\n",
       "      <td>0.0</td>\n",
       "      <td>1000000.0</td>\n",
       "      <td>1.0</td>\n",
       "    </tr>\n",
       "  </tbody>\n",
       "</table>\n",
       "</div>"
      ],
      "text/plain": [
       "         id  address_id  transaction_id   received       sent  cluster_id\n",
       "0  87134765    46402336        19162323        0.0  1800000.0         0.0\n",
       "1  87134766    45919235        19162323        0.0  1071052.0         0.0\n",
       "2  87134767    46529090        19162323  1000000.0        0.0         1.0\n",
       "3  87134768    46529091        19162323  1821052.0        0.0         0.0\n",
       "4  87154706    46529090        19166856        0.0  1000000.0         1.0"
      ]
     },
     "execution_count": 22,
     "metadata": {},
     "output_type": "execute_result"
    }
   ],
   "source": [
    "df.sort_values(by=['transaction_id']).head()"
   ]
  },
  {
   "cell_type": "markdown",
   "metadata": {},
   "source": [
    "Проверка на пустые значения:"
   ]
  },
  {
   "cell_type": "code",
   "execution_count": 23,
   "metadata": {},
   "outputs": [
    {
     "name": "stdout",
     "output_type": "stream",
     "text": [
      "<class 'pandas.core.frame.DataFrame'>\n",
      "Int64Index: 76724 entries, 0 to 76723\n",
      "Data columns (total 6 columns):\n",
      "id                76724 non-null int64\n",
      "address_id        76724 non-null int64\n",
      "transaction_id    76724 non-null int64\n",
      "received          76724 non-null float64\n",
      "sent              76724 non-null float64\n",
      "cluster_id        76724 non-null float64\n",
      "dtypes: float64(3), int64(3)\n",
      "memory usage: 4.1 MB\n"
     ]
    }
   ],
   "source": [
    "df.info()"
   ]
  },
  {
   "cell_type": "markdown",
   "metadata": {},
   "source": [
    "Группировка по transaction_id - каждая группа это отдельная транзакция"
   ]
  },
  {
   "cell_type": "code",
   "execution_count": 24,
   "metadata": {},
   "outputs": [],
   "source": [
    "df_grouped = df.groupby('transaction_id')"
   ]
  },
  {
   "cell_type": "markdown",
   "metadata": {},
   "source": [
    "Посмотрим, какое количество кластеров может учавствовать в транзакции:"
   ]
  },
  {
   "cell_type": "code",
   "execution_count": 25,
   "metadata": {},
   "outputs": [
    {
     "name": "stdout",
     "output_type": "stream",
     "text": [
      "Количество транзакций, в которых биткоины отправляются с адресов одного кластера - 13753\n",
      "Количество транзакций, в которых биткоины отправляются с адресов нескольких кластеров - 0\n"
     ]
    }
   ],
   "source": [
    "uniq_1 = 0\n",
    "uniq_several = 0\n",
    "for name, group in df_grouped:\n",
    "    x = group[group['sent'] > 0]['cluster_id'].nunique()\n",
    "    if x == 1: uniq_1 +=1\n",
    "    if x > 1: uniq_several +=1\n",
    "\n",
    "print('Количество транзакций, в которых биткоины отправляются с адресов одного кластера - {}'.format(uniq_1))\n",
    "print('Количество транзакций, в которых биткоины отправляются с адресов нескольких кластеров - {}'.format(uniq_several))"
   ]
  },
  {
   "cell_type": "code",
   "execution_count": 26,
   "metadata": {},
   "outputs": [
    {
     "name": "stdout",
     "output_type": "stream",
     "text": [
      "Количество транзакций, в которых биткоины приходят на адреса одного кластера - 2337\n",
      "Количество транзакций, в которых биткоины приходят на адреса нескольких кластеров - 11416\n"
     ]
    }
   ],
   "source": [
    "uniq_1 = 0\n",
    "uniq_several = 0\n",
    "for name, group in df_grouped:\n",
    "    x = group[group['received'] > 0]['cluster_id'].nunique()\n",
    "    if x == 1: uniq_1 +=1\n",
    "    if x > 1: uniq_several +=1\n",
    "\n",
    "print('Количество транзакций, в которых биткоины приходят на адреса одного кластера - {}'.format(uniq_1))\n",
    "print('Количество транзакций, в которых биткоины приходят на адреса нескольких кластеров - {}'.format(uniq_several))"
   ]
  },
  {
   "cell_type": "markdown",
   "metadata": {},
   "source": [
    "Так как в транзакции в отправке биткоинов учавствует только один кластер, необходимо отобрать те группы (транзакции), где отправляет биткоины интересующий нас кластер. Если взять из этой группы количество биткоинов, полученных интересующей группой, получится ответ - сколько биткоинов было отправлено с одного кластера на другой."
   ]
  },
  {
   "cell_type": "code",
   "execution_count": 27,
   "metadata": {},
   "outputs": [],
   "source": [
    "def get_flow(df, sent_name, received_name):\n",
    "    sent = 0\n",
    "    sent_name = int(sent_name)\n",
    "    received_name = int(received_name)\n",
    "    for name, group in df:\n",
    "        if group[group['cluster_id'] == sent_name]['sent'].sum() == 0: continue\n",
    "        sent += group[group['cluster_id'] == received_name]['received'].sum()\n",
    "    return sent"
   ]
  },
  {
   "cell_type": "code",
   "execution_count": 28,
   "metadata": {},
   "outputs": [],
   "source": [
    "def get_fee(df, sent_name):\n",
    "    fee = 0\n",
    "    sent_name = int(sent_name)\n",
    "    for name, group in df:\n",
    "        if group[group['cluster_id'] == sent_name]['sent'].sum() == 0: continue\n",
    "        fee += group['sent'].sum() - group['received'].sum()\n",
    "    return fee"
   ]
  },
  {
   "cell_type": "code",
   "execution_count": 29,
   "metadata": {},
   "outputs": [],
   "source": [
    "def satoshi_to_btc(satoshi):\n",
    "    return satoshi / 1e8"
   ]
  },
  {
   "cell_type": "code",
   "execution_count": 30,
   "metadata": {},
   "outputs": [
    {
     "name": "stdout",
     "output_type": "stream",
     "text": [
      "Отправлено с кластера 0 на кластер 0 722.75 BTC\n",
      "Отправлено с кластера 0 на кластер 1 297.12 BTC\n",
      "Отправлено с кластера 0 на кластер 2 9.74 BTC\n",
      "Отправлено с кластера 1 на кластер 0 300.55 BTC\n",
      "Отправлено с кластера 1 на кластер 1 209.80 BTC\n",
      "Отправлено с кластера 1 на кластер 2 129.24 BTC\n",
      "Отправлено с кластера 2 на кластер 0 4.87 BTC\n",
      "Отправлено с кластера 2 на кластер 1 135.82 BTC\n",
      "Отправлено с кластера 2 на кластер 2 889.81 BTC\n"
     ]
    }
   ],
   "source": [
    "for i in range(3):\n",
    "    for j in range(3):\n",
    "        sent = get_flow(df_grouped, i, j)\n",
    "        sent = satoshi_to_btc(sent)\n",
    "        print('Отправлено с кластера {} на кластер {} {:.2f} BTC'.format(i, j, sent))"
   ]
  },
  {
   "cell_type": "code",
   "execution_count": 31,
   "metadata": {},
   "outputs": [
    {
     "name": "stdout",
     "output_type": "stream",
     "text": [
      "Кластер 0 потратил на fee 0.951604 BTC\n",
      "Кластер 1 потратил на fee 0.667144 BTC\n",
      "Кластер 2 потратил на fee 0.745667 BTC\n"
     ]
    }
   ],
   "source": [
    "for i in range(0,3):\n",
    "    fee = get_fee(df_grouped, i)\n",
    "    fee = satoshi_to_btc(fee)\n",
    "    print('Кластер {} потратил на fee {:.6f} BTC'.format(i, fee))\n",
    "    "
   ]
  }
 ],
 "metadata": {
  "kernelspec": {
   "display_name": "Python 3",
   "language": "python",
   "name": "python3"
  },
  "language_info": {
   "codemirror_mode": {
    "name": "ipython",
    "version": 3
   },
   "file_extension": ".py",
   "mimetype": "text/x-python",
   "name": "python",
   "nbconvert_exporter": "python",
   "pygments_lexer": "ipython3",
   "version": "3.5.5"
  }
 },
 "nbformat": 4,
 "nbformat_minor": 2
}
